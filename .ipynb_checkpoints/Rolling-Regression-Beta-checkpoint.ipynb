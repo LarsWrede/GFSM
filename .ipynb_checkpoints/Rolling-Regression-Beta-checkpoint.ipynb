{
 "cells": [
  {
   "cell_type": "code",
   "execution_count": 3,
   "id": "f1b7e11e",
   "metadata": {},
   "outputs": [],
   "source": [
    "import pandas as pd\n",
    "import numpy as np\n",
    "import yfinance as yf\n",
    "from sklearn.linear_model import LinearRegression\n",
    "import matplotlib.pyplot as plt"
   ]
  },
  {
   "cell_type": "code",
   "execution_count": 15,
   "id": "333602e2",
   "metadata": {},
   "outputs": [],
   "source": [
    "newcomers = ['AIR.DE', 'SHL.DE', 'ZAL.DE', 'SY1.DE', 'SRT3.DE', 'POAHY', 'HFG.DE', 'BNR.DE', 'QIA.DE', 'PUM.DE']"
   ]
  },
  {
   "cell_type": "code",
   "execution_count": 80,
   "id": "2c3fb1a6",
   "metadata": {},
   "outputs": [],
   "source": [
    "# get the closing price of ZALANDO Stock\n",
    "zal = yf.download('ZAL.DE', start='2020-09-20', end='2022-03-01', progress=False)['Adj Close']\n",
    "zal = pd.DataFrame(zal)\n",
    "zal['zal_return'] = zal['Adj Close'].pct_change()\n",
    "zal.dropna(inplace=True)"
   ]
  },
  {
   "cell_type": "code",
   "execution_count": null,
   "id": "a1762941",
   "metadata": {},
   "outputs": [],
   "source": [
    "def close_price(stock):\n",
    "    df = yf.download(stock, start='2020-09-20', end='2022-03-01', progress=False)['Adj Close']\n",
    "    df = pd.DataFrame(df)\n",
    "    df['return'] = df['Adj Close'].pct_change()\n",
    "    df.dropna(inplace=True)\n",
    "    return df"
   ]
  },
  {
   "cell_type": "code",
   "execution_count": 83,
   "id": "4671c606",
   "metadata": {},
   "outputs": [
    {
     "ename": "NameError",
     "evalue": "name 'AIR' is not defined",
     "output_type": "error",
     "traceback": [
      "\u001b[0;31m---------------------------------------------------------------------------\u001b[0m",
      "\u001b[0;31mNameError\u001b[0m                                 Traceback (most recent call last)",
      "\u001b[0;32m<ipython-input-83-47d305d91874>\u001b[0m in \u001b[0;36m<module>\u001b[0;34m\u001b[0m\n\u001b[0;32m----> 1\u001b[0;31m \u001b[0mclose_price\u001b[0m\u001b[0;34m(\u001b[0m\u001b[0mAIR\u001b[0m\u001b[0;34m.\u001b[0m\u001b[0mDE\u001b[0m\u001b[0;34m)\u001b[0m\u001b[0;34m\u001b[0m\u001b[0;34m\u001b[0m\u001b[0m\n\u001b[0m",
      "\u001b[0;31mNameError\u001b[0m: name 'AIR' is not defined"
     ]
    }
   ],
   "source": [
    "close_price('AIR.DE')"
   ]
  },
  {
   "cell_type": "code",
   "execution_count": 47,
   "id": "93679c01",
   "metadata": {},
   "outputs": [
    {
     "data": {
      "text/html": [
       "<div>\n",
       "<style scoped>\n",
       "    .dataframe tbody tr th:only-of-type {\n",
       "        vertical-align: middle;\n",
       "    }\n",
       "\n",
       "    .dataframe tbody tr th {\n",
       "        vertical-align: top;\n",
       "    }\n",
       "\n",
       "    .dataframe thead th {\n",
       "        text-align: right;\n",
       "    }\n",
       "</style>\n",
       "<table border=\"1\" class=\"dataframe\">\n",
       "  <thead>\n",
       "    <tr style=\"text-align: right;\">\n",
       "      <th></th>\n",
       "      <th>Close</th>\n",
       "      <th>dax_return</th>\n",
       "    </tr>\n",
       "    <tr>\n",
       "      <th>Date</th>\n",
       "      <th></th>\n",
       "      <th></th>\n",
       "    </tr>\n",
       "  </thead>\n",
       "  <tbody>\n",
       "    <tr>\n",
       "      <th>2020-09-22</th>\n",
       "      <td>12594.389648</td>\n",
       "      <td>0.004142</td>\n",
       "    </tr>\n",
       "    <tr>\n",
       "      <th>2020-09-23</th>\n",
       "      <td>12642.969727</td>\n",
       "      <td>0.003857</td>\n",
       "    </tr>\n",
       "    <tr>\n",
       "      <th>2020-09-24</th>\n",
       "      <td>12606.570312</td>\n",
       "      <td>-0.002879</td>\n",
       "    </tr>\n",
       "    <tr>\n",
       "      <th>2020-09-25</th>\n",
       "      <td>12469.200195</td>\n",
       "      <td>-0.010897</td>\n",
       "    </tr>\n",
       "    <tr>\n",
       "      <th>2020-09-28</th>\n",
       "      <td>12870.870117</td>\n",
       "      <td>0.032213</td>\n",
       "    </tr>\n",
       "    <tr>\n",
       "      <th>...</th>\n",
       "      <td>...</td>\n",
       "      <td>...</td>\n",
       "    </tr>\n",
       "    <tr>\n",
       "      <th>2022-02-22</th>\n",
       "      <td>14693.000000</td>\n",
       "      <td>-0.002588</td>\n",
       "    </tr>\n",
       "    <tr>\n",
       "      <th>2022-02-23</th>\n",
       "      <td>14631.360352</td>\n",
       "      <td>-0.004195</td>\n",
       "    </tr>\n",
       "    <tr>\n",
       "      <th>2022-02-24</th>\n",
       "      <td>14052.099609</td>\n",
       "      <td>-0.039590</td>\n",
       "    </tr>\n",
       "    <tr>\n",
       "      <th>2022-02-25</th>\n",
       "      <td>14567.230469</td>\n",
       "      <td>0.036659</td>\n",
       "    </tr>\n",
       "    <tr>\n",
       "      <th>2022-02-28</th>\n",
       "      <td>14461.019531</td>\n",
       "      <td>-0.007291</td>\n",
       "    </tr>\n",
       "  </tbody>\n",
       "</table>\n",
       "<p>366 rows × 2 columns</p>\n",
       "</div>"
      ],
      "text/plain": [
       "                   Close  dax_return\n",
       "Date                                \n",
       "2020-09-22  12594.389648    0.004142\n",
       "2020-09-23  12642.969727    0.003857\n",
       "2020-09-24  12606.570312   -0.002879\n",
       "2020-09-25  12469.200195   -0.010897\n",
       "2020-09-28  12870.870117    0.032213\n",
       "...                  ...         ...\n",
       "2022-02-22  14693.000000   -0.002588\n",
       "2022-02-23  14631.360352   -0.004195\n",
       "2022-02-24  14052.099609   -0.039590\n",
       "2022-02-25  14567.230469    0.036659\n",
       "2022-02-28  14461.019531   -0.007291\n",
       "\n",
       "[366 rows x 2 columns]"
      ]
     },
     "execution_count": 47,
     "metadata": {},
     "output_type": "execute_result"
    }
   ],
   "source": [
    "# get the closing price of DAX Index\n",
    "dax = yf.download('^GDAXI', start='2020-09-20', end='2022-03-01', progress=False)['Close']\n",
    "dax = pd.DataFrame(dax)\n",
    "dax['dax_return'] = dax['Close'].pct_change()\n",
    "dax.dropna(inplace=True)\n",
    "dax"
   ]
  },
  {
   "cell_type": "code",
   "execution_count": 74,
   "id": "bbc0b063",
   "metadata": {},
   "outputs": [],
   "source": [
    "def market_beta(X,Y,N):\n",
    "    \"\"\" \n",
    "    X = The independent variable which is the Market\n",
    "    Y = The dependent variable which is the Stock\n",
    "    N = The length of the Window\n",
    "    \n",
    "    It returns the alphas and the betas of\n",
    "    the rolling regression\n",
    "    \"\"\"\n",
    "    \n",
    "    # all the observations\n",
    "    obs = len(X)\n",
    "    \n",
    "    # initiate the betas with null values\n",
    "    betas = np.full(obs, np.nan)  \n",
    "    \n",
    "    for i in range((obs-N)):\n",
    "        regressor = LinearRegression()\n",
    "        regressor.fit(X.to_numpy()[i : i + N+1].reshape(-1,1), Y.to_numpy()[i : i + N+1])\n",
    "        \n",
    "        betas[i+N]  = regressor.coef_[0]\n",
    "                \n",
    "    return(betas)"
   ]
  },
  {
   "cell_type": "code",
   "execution_count": 79,
   "id": "b161a509",
   "metadata": {},
   "outputs": [],
   "source": [
    "#for stock in newcomers:\n",
    "#    market_beta(stock.)\n",
    "\n",
    "results = market_beta(zal.zal_return, dax.dax_return, 30)\n",
    "results = pd.DataFrame(results, columns = ['beta ZAL']).dropna()"
   ]
  },
  {
   "cell_type": "code",
   "execution_count": null,
   "id": "8e2feeff",
   "metadata": {},
   "outputs": [],
   "source": [
    "for"
   ]
  },
  {
   "cell_type": "code",
   "execution_count": 52,
   "id": "8736a88d",
   "metadata": {},
   "outputs": [
    {
     "data": {
      "text/plain": [
       "Text(0.5, 1.0, 'Market Beta: Zalando vs Dax with Rolling Window of 30 Days')"
      ]
     },
     "execution_count": 52,
     "metadata": {},
     "output_type": "execute_result"
    },
    {
     "data": {
      "image/png": "[encoded data removed]",
      "text/plain": [
       "<Figure size 864x576 with 1 Axes>"
      ]
     },
     "metadata": {
      "needs_background": "light"
     },
     "output_type": "display_data"
    }
   ],
   "source": [
    "results.index = zal.index\n",
    "plt.figure(figsize=(12,8))\n",
    "results.beta.plot.line()\n",
    "plt.title(\"Market Beta: Zalando vs Dax with Rolling Window of 30 Days\")"
   ]
  },
  {
   "cell_type": "code",
   "execution_count": null,
   "id": "4b54ea69",
   "metadata": {},
   "outputs": [],
   "source": [
    "for key in dax_new:\n",
    "    data = pd.DataFrame(dax_new[key]['2020-09-20':'2022-03-01'])\n",
    "    data['Benchmark'] = benchmark['Schlusskurs']['2020-09-20':'2022-03-01']\n",
    "    data['Dummy'] = benchmark['Dummy']['2020-09-20':'2022-03-01']\n",
    "    stocks_as_df['Volume'][key]['2020-09-20':'2021-09-20']    \n",
    "    data = data.rename(columns = {'Adj Close': 'y', 'Dummy': 'D', 'Benchmark': 'x'})"
   ]
  }
 ],
 "metadata": {
  "kernelspec": {
   "display_name": "Python 3",
   "language": "python",
   "name": "python3"
  },
  "language_info": {
   "codemirror_mode": {
    "name": "ipython",
    "version": 3
   },
   "file_extension": ".py",
   "mimetype": "text/x-python",
   "name": "python",
   "nbconvert_exporter": "python",
   "pygments_lexer": "ipython3",
   "version": "3.8.8"
  }
 },
 "nbformat": 4,
 "nbformat_minor": 5
}
